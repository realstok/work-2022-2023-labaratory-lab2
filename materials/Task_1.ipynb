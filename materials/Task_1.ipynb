{
 "cells": [
  {
   "cell_type": "code",
   "execution_count": 191,
   "id": "601c3b57",
   "metadata": {},
   "outputs": [],
   "source": [
    "import numpy as np\n",
    "import random\n",
    "import collections\n",
    "import re"
   ]
  },
  {
   "cell_type": "markdown",
   "id": "15449f07",
   "metadata": {},
   "source": [
    "# 1 задача"
   ]
  },
  {
   "cell_type": "code",
   "execution_count": 198,
   "id": "00efc5f7",
   "metadata": {},
   "outputs": [
    {
     "data": {
      "text/plain": [
       "'еенпнзоатаьовокннеьвлдирияцтиa'"
      ]
     },
     "execution_count": 198,
     "metadata": {},
     "output_type": "execute_result"
    }
   ],
   "source": [
    "text = 'нельзя недооценивать противника'\n",
    "text_1 = 'пароль'\n",
    "\n",
    "def columns_replace(text, text_1):\n",
    "    text = text.replace(' ', '')\n",
    "    size = len(text_1)\n",
    "    if len(text) % size != 0:\n",
    "        text += 'a'\n",
    "\n",
    "    def chunks(lst, n):\n",
    "        for i in range(0, len(lst), n):\n",
    "            yield lst[i:i + n]\n",
    "\n",
    "    text = list(text)\n",
    "    text = chunks(text, 6)\n",
    "    text = list(text)\n",
    "    text_1 = list(text_1)\n",
    "    text.append(text_1)\n",
    "    arr = np.array(text)\n",
    "    arr = arr.T\n",
    "    dict_ = {}\n",
    "    for i in arr:\n",
    "        key = i[-1]\n",
    "        dict_[key] = list(i[:-1])\n",
    "    od = collections.OrderedDict(sorted(dict_.items()))\n",
    "    final_text = ''\n",
    "    for i in od.values():\n",
    "        char = ''.join(i)\n",
    "        final_text += char\n",
    "        \n",
    "    return final_text\n",
    "fin = columns_replace(text, text_1)\n",
    "fin"
   ]
  },
  {
   "cell_type": "markdown",
   "id": "2199eb57",
   "metadata": {},
   "source": [
    "# 3 задача"
   ]
  },
  {
   "cell_type": "code",
   "execution_count": 205,
   "id": "7e8c9c27",
   "metadata": {},
   "outputs": [
    {
     "data": {
      "text/plain": [
       "'тфмдпиэыъкюаль'"
      ]
     },
     "execution_count": 205,
     "metadata": {},
     "output_type": "execute_result"
    }
   ],
   "source": [
    "from itertools import cycle\n",
    "\n",
    "alp = 'абвгдеёжзийклмнопрстуфхцчшщъыьэюя'\n",
    "\n",
    "def encode_vijn(text, keytext):\n",
    "    text = text.replace(' ', '').lower()\n",
    "    keytext = keytext.lower().replace(' ', '')\n",
    "    f = lambda arg: alp[(alp.index(arg[0])+alp.index(arg[1])%33)%33]\n",
    "    return ''.join(map(f, zip(text, cycle(keytext))))\n",
    "\n",
    "\n",
    "def decode_vijn(coded_text, keytext):\n",
    "    f = lambda arg: alp[alp.index(arg[0])-alp.index(arg[1])%33]\n",
    "    return ''.join(map(f, zip(coded_text, cycle(keytext))))\n",
    "text = 'клад зарыт в саду'\n",
    "keytext = 'зима'\n",
    "sd = encode_vijn(text, keytext)\n",
    "sd\n"
   ]
  },
  {
   "cell_type": "markdown",
   "id": "848ac70c",
   "metadata": {},
   "source": [
    "# 2 задача"
   ]
  },
  {
   "cell_type": "code",
   "execution_count": 199,
   "id": "f8984b52",
   "metadata": {},
   "outputs": [],
   "source": [
    "def get_matrix():\n",
    "    cipher_grille = [['.', '.', '.', 'X'],\n",
    "                ['.', '.', '.', '.'],\n",
    "                ['.', 'X', '.', 'X'],\n",
    "                ['.', '.', 'X', '.']]\n",
    "    ciphered_password  = 'договор подписали'\n",
    "    ciphered_password = ciphered_password.replace(' ', '').lower()\n",
    "    ciphers = []\n",
    "    ciphers.append(cipher_grille)\n",
    "    for i in range(3):\n",
    "        cipher_grille = [[cipher_grille[i][j] for i in reversed(range(4))] for j in range(4)]\n",
    "        ciphers.append(cipher_grille)\n",
    "    ciphers\n",
    "    out = ''\n",
    "    s = []\n",
    "    count = 0\n",
    "    for cipher in ciphers:\n",
    "        s_1 = []\n",
    "        for i,item in enumerate(cipher):\n",
    "            if 'X' in item:\n",
    "                index = item.index('X')\n",
    "                temp = item\n",
    "                temp[index] = ciphered_password[count]\n",
    "                count +=1\n",
    "                if 'X' in temp:\n",
    "                    index_ = temp.index('X')\n",
    "                    temp[index_] = ciphered_password[count]\n",
    "                    count +=1\n",
    "                    s_1.append(temp)\n",
    "                else:\n",
    "                    s_1.append(temp)\n",
    "            else:\n",
    "                s_1.append(item)\n",
    "        s.append(s_1)\n",
    "        \n",
    "    return s"
   ]
  },
  {
   "cell_type": "code",
   "execution_count": 200,
   "id": "7961b53e",
   "metadata": {},
   "outputs": [],
   "source": [
    "def get_char(num):\n",
    "    text = ''\n",
    "    bag = []\n",
    "    count_= 0\n",
    "    dict_ = {}\n",
    "    s =  get_matrix()\n",
    "    for i in s:\n",
    "        work = i[num]\n",
    "        count_+=1\n",
    "        for j in work:\n",
    "            if j.isalpha():\n",
    "                index = work.index(j)\n",
    "                dict_[index] = j\n",
    "    od = collections.OrderedDict(sorted(dict_.items()))\n",
    "    od = [i[1] for i in od.items()]\n",
    "    od = ''.join(od)\n",
    "    text+=od\n",
    "    return text\n",
    "\n",
    "def get_all_text():\n",
    "    all_text = \"\"\n",
    "    for num in range(len(s[0])):\n",
    "        text = get_char(num)\n",
    "        all_text += text\n",
    "    return all_text\n",
    "\n",
    "def chunks(lst, n):\n",
    "    for i in range(0, len(lst), n):\n",
    "        yield lst[i:i + n]\n"
   ]
  },
  {
   "cell_type": "code",
   "execution_count": 201,
   "id": "ad23ba77",
   "metadata": {},
   "outputs": [],
   "source": [
    "def encoding():\n",
    "    all_text = get_all_text()\n",
    "    all_text = list(all_text)\n",
    "    all_list = list(chunks(all_text, len(s[0])))\n",
    "    password = list('шифр')\n",
    "    all_list.append(password)\n",
    "    arr = np.array(all_list)\n",
    "    arr = arr.T\n",
    "    dict_ = {}\n",
    "    for i in arr:\n",
    "        key = i[-1]\n",
    "        dict_[key] = list(i[:-1])\n",
    "    od = collections.OrderedDict(sorted(dict_.items()))\n",
    "    final_text = ''\n",
    "    for i in od.values():\n",
    "        char = ''.join(i)\n",
    "        final_text += char\n",
    "    return final_text"
   ]
  },
  {
   "cell_type": "code",
   "execution_count": 202,
   "id": "3367574d",
   "metadata": {},
   "outputs": [
    {
     "data": {
      "text/plain": [
       "'овордлгпапиосдои'"
      ]
     },
     "execution_count": 202,
     "metadata": {},
     "output_type": "execute_result"
    }
   ],
   "source": [
    "final_text = encoding()\n",
    "final_text"
   ]
  }
 ],
 "metadata": {
  "kernelspec": {
   "display_name": "Python 3",
   "language": "python",
   "name": "python3"
  },
  "language_info": {
   "codemirror_mode": {
    "name": "ipython",
    "version": 3
   },
   "file_extension": ".py",
   "mimetype": "text/x-python",
   "name": "python",
   "nbconvert_exporter": "python",
   "pygments_lexer": "ipython3",
   "version": "3.8.8"
  }
 },
 "nbformat": 4,
 "nbformat_minor": 5
}
